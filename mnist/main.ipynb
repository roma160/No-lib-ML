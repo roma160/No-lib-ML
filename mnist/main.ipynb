{
 "cells": [
  {
   "cell_type": "markdown",
   "metadata": {},
   "source": [
    "# MNIST dataset training\n",
    "The algorithms is taken from [3B1B](https://youtu.be/aircAruvnKk)\n",
    "\n",
    "The TS library is used only to download the dataset"
   ]
  },
  {
   "cell_type": "markdown",
   "metadata": {},
   "source": [
    "### Libs and dataset loading"
   ]
  },
  {
   "cell_type": "code",
   "execution_count": 2,
   "metadata": {},
   "outputs": [
    {
     "name": "stderr",
     "output_type": "stream",
     "text": [
      "c:\\user\\projects\\python\\LearningML\\NoLibImpl\\.venv\\lib\\site-packages\\tqdm\\auto.py:22: TqdmWarning: IProgress not found. Please update jupyter and ipywidgets. See https://ipywidgets.readthedocs.io/en/stable/user_install.html\n",
      "  from .autonotebook import tqdm as notebook_tqdm\n"
     ]
    }
   ],
   "source": [
    "# Typing\n",
    "from typing import Callable, Union\n",
    "import numpy.typing as npt\n",
    "\n",
    "# Structure\n",
    "from dataclasses import dataclass\n",
    "from enum import Enum\n",
    "\n",
    "from datasets import load_dataset\n",
    "import matplotlib.pyplot as plt\n",
    "import numpy as np\n",
    "import pandas as pd\n",
    "import random as rnd"
   ]
  },
  {
   "cell_type": "code",
   "execution_count": 3,
   "metadata": {},
   "outputs": [
    {
     "name": "stderr",
     "output_type": "stream",
     "text": [
      "Reusing dataset mnist (C:\\Users\\mario\\.cache\\huggingface\\datasets\\mnist\\mnist\\1.0.0\\fda16c03c4ecfb13f165ba7e29cf38129ce035011519968cdaf74894ce91c9d4)\n",
      "100%|██████████| 2/2 [00:00<00:00, 333.62it/s]\n"
     ]
    }
   ],
   "source": [
    "# Downloading the dataset\n",
    "dataset = load_dataset(\"mnist\")"
   ]
  },
  {
   "cell_type": "code",
   "execution_count": 4,
   "metadata": {},
   "outputs": [
    {
     "data": {
      "text/html": [
       "<div>\n",
       "<style scoped>\n",
       "    .dataframe tbody tr th:only-of-type {\n",
       "        vertical-align: middle;\n",
       "    }\n",
       "\n",
       "    .dataframe tbody tr th {\n",
       "        vertical-align: top;\n",
       "    }\n",
       "\n",
       "    .dataframe thead th {\n",
       "        text-align: right;\n",
       "    }\n",
       "</style>\n",
       "<table border=\"1\" class=\"dataframe\">\n",
       "  <thead>\n",
       "    <tr style=\"text-align: right;\">\n",
       "      <th></th>\n",
       "      <th>image</th>\n",
       "      <th>label</th>\n",
       "    </tr>\n",
       "  </thead>\n",
       "  <tbody>\n",
       "    <tr>\n",
       "      <th>0</th>\n",
       "      <td>&lt;PIL.PngImagePlugin.PngImageFile image mode=L ...</td>\n",
       "      <td>5</td>\n",
       "    </tr>\n",
       "    <tr>\n",
       "      <th>1</th>\n",
       "      <td>&lt;PIL.PngImagePlugin.PngImageFile image mode=L ...</td>\n",
       "      <td>0</td>\n",
       "    </tr>\n",
       "    <tr>\n",
       "      <th>2</th>\n",
       "      <td>&lt;PIL.PngImagePlugin.PngImageFile image mode=L ...</td>\n",
       "      <td>4</td>\n",
       "    </tr>\n",
       "    <tr>\n",
       "      <th>3</th>\n",
       "      <td>&lt;PIL.PngImagePlugin.PngImageFile image mode=L ...</td>\n",
       "      <td>1</td>\n",
       "    </tr>\n",
       "    <tr>\n",
       "      <th>4</th>\n",
       "      <td>&lt;PIL.PngImagePlugin.PngImageFile image mode=L ...</td>\n",
       "      <td>9</td>\n",
       "    </tr>\n",
       "  </tbody>\n",
       "</table>\n",
       "</div>"
      ],
      "text/plain": [
       "                                               image  label\n",
       "0  <PIL.PngImagePlugin.PngImageFile image mode=L ...      5\n",
       "1  <PIL.PngImagePlugin.PngImageFile image mode=L ...      0\n",
       "2  <PIL.PngImagePlugin.PngImageFile image mode=L ...      4\n",
       "3  <PIL.PngImagePlugin.PngImageFile image mode=L ...      1\n",
       "4  <PIL.PngImagePlugin.PngImageFile image mode=L ...      9"
      ]
     },
     "execution_count": 4,
     "metadata": {},
     "output_type": "execute_result"
    }
   ],
   "source": [
    "# Converting the dataset obj to the pd.DataFrame (to make the work easier)\n",
    "_train, _test = dataset.values()\n",
    "ds_train = pd.DataFrame(_train)\n",
    "ds_test = pd.DataFrame(_test)\n",
    "\n",
    "ds_train.head()"
   ]
  },
  {
   "cell_type": "markdown",
   "metadata": {},
   "source": [
    "### Creating data preparation pipeline"
   ]
  },
  {
   "cell_type": "code",
   "execution_count": 5,
   "metadata": {},
   "outputs": [
    {
     "data": {
      "text/plain": [
       "(784,)"
      ]
     },
     "execution_count": 5,
     "metadata": {},
     "output_type": "execute_result"
    }
   ],
   "source": [
    "def preparation_pipeline(ds: pd.DataFrame) -> None:\n",
    "    # (PillowPNG -> np.array) => normalizing (unint8 -> float32) => flattening input\n",
    "    ds[\"image\"] = ds[\"image\"].apply(lambda el: np.array(el).reshape((-1,)) / 255.)\n",
    "    # Hot-encoding output\n",
    "    ds[\"label\"] = ds[\"label\"].apply(lambda el: 1. * (np.arange(10) == el))\n",
    "    # Renaming the columns\n",
    "    ds.rename({\"image\": \"x\", \"label\": \"y\"}, inplace=True)\n",
    "\n",
    "\n",
    "# Applying pipeline\n",
    "for ds in [ds_train, ds_test]:\n",
    "    preparation_pipeline(ds)\n",
    "\n",
    "# Shuffling with pd method sample\n",
    "ds_train = ds_train.sample(frac=1).reset_index(drop=True)\n",
    "\n",
    "ds_train.iloc[0][\"image\"].shape"
   ]
  },
  {
   "cell_type": "markdown",
   "metadata": {},
   "source": [
    "## Recurrent formulas:\n",
    "### Some reference\n",
    "<img src=\"./images/ref1.png\" width=\"700\"/>"
   ]
  },
  {
   "cell_type": "markdown",
   "metadata": {},
   "source": [
    "The recurent formulas are the initial bounds of our model, which we are then using to derive the training steps.\n",
    "\n",
    "Basically, we could define our model as $ F(x) = y $, but, as it must be more complex than this, we make some expansion.\n",
    "\n",
    "As we are dealing with the neural network, it is much better to store weights between two layers in a 2d matrix:\n",
    "$$ \\displaystyle\n",
    "W^{(l)}_{m\\leftarrow n} = \n",
    "\\begin{pmatrix}\n",
    "    w^{(l)}_{11} & w^{(l)}_{12} & \\dots & w^{(l)}_{1n} \\\\\n",
    "    w^{(l)}_{21} & w^{(l)}_{22} & \\dots & w^{(l)}_{2n} \\\\\n",
    "        \\vdots & \\vdots & \\ddots & \\vdots \\\\\n",
    "    w^{(l)}_{m1} & w^{(l)}_{m2} & \\dots & w^{(l)}_{mn} \\\\\n",
    "\\end{pmatrix},\n",
    "$$\n",
    "Where $ w^{(l)}_{ij} $ denotes weight from neuron $i$ to neuron $j$ in layer $l$.\n",
    "Lets call this $ W^{(l)} $ -thing, which is essentially symbolices the bundle of weights between two layers, *the weights layer number $l$*.\n",
    "\n",
    "As we are approaching matrix math, let us denote **($*$)** as a **matrix multiplication** and **($\\cdot$)** as **element-wise multiplication** (and as this operation doesn't affects the dimentionality, often this dot could be just omited 🙃). Please also note, that having the element-wise multiplication gives us the right to define in the same way the **element-wise division**.\n",
    "\n",
    "Let also $W$ would be the array, holding all of these matrixes:\n",
    "$$ W = [\\;\\underbrace{W^{(0)}, W^{(1)}, \\dots, W^{(L-2)}}_{L-1}\\;] $$\n",
    "<div></div>\n",
    "\n",
    "But now lets define the neuron function and its output.\n",
    "Let $raw^{(l)} = [raw^{(l)}_1, raw^{(l)}_2, \\dots, raw^{(l)}_i, \\dots, raw^{(l)}_n]$\n",
    "would be the input, that goes to the neuron $i$ in layer $l$.\n",
    "And let the $A_f^{(l)}: \\mathbb{R}\\rightarrow \\mathbb{R}$ - an activation function of neurons in the layer $l$ and $A_d^{(l)}$ - its derivative.\n",
    "Okay, now we are finally able to define the output of the neuron layer $l$ as $out^{(l)} = [out^{(l)}_1, out^{(l)}_2, \\dots, out^{(l)}_i, \\dots, out^{(l)}_n]$, where $out^{(l)}_i$ denotes output of $i$ -th neuron.\n",
    "\n",
    "It is also quite a crutial thing not to mess up the indexes. And so, please note that while let we have $L$ layers of neurons, there are only $L-1$ \"weighted connections\" between them, thus we have only L-1 elements of $W$ array respectively. And this means that there are also $L$ inputs/outputs of the each neuron layer, which we would also store in one list, following the $W$ model:\n",
    "$$ raw = [\\;\\underbrace{raw^{(0)}, raw^{(1)}, \\dots, raw^{(L-1)}}_{L}\\;] $$\n",
    "$$ out = [\\;\\underbrace{out^{(0)}, out^{(1)}, \\dots, out^{(L-1)}}_{L}\\;] $$\n",
    "<div></div>\n",
    "\n",
    "Taking the things said before into account, we are finally could define the \"function\" $F$:\n",
    "$$\n",
    "F: \\begin{cases}\n",
    "out^{(0)} = x; \\\\\n",
    "raw^{(l)} = W^{(l-1)} * out^{(l-1)} + b^{(l-1)}; \\\\\n",
    "out^{(l)} = A_f^{(l)}(raw^{(l)}); \\\\\n",
    "y = out^{(L-1)};\n",
    "\\end{cases}\n",
    "$$\n",
    "(Where $b^{(l)}$ is a bias of $l$ -th layer, and has the same dimentionality as $W^{(l)} * out^{(l-1)}$)"
   ]
  },
  {
   "cell_type": "markdown",
   "metadata": {},
   "source": [
    "## Layers class"
   ]
  },
  {
   "cell_type": "code",
   "execution_count": 6,
   "metadata": {},
   "outputs": [],
   "source": [
    "@dataclass\n",
    "class ActivationFunction:\n",
    "    \"\"\"\n",
    "        This class is used to store information about the activation function.\n",
    "        (In our case we store the function, its derivative and name).\n",
    "    \"\"\"\n",
    "\n",
    "    name: str\n",
    "\n",
    "    # The function callable\n",
    "    # (Pay close attention to the input and output types: \n",
    "    #   we are applying function elementwise)\n",
    "    f: Callable[[np.ndarray], np.ndarray]\n",
    "\n",
    "    # The derivative callable of function\n",
    "    d: Callable[[np.ndarray], np.ndarray]\n",
    "\n",
    "    # This thing would make our live easier, debugging the model\n",
    "    def __str__(self):\n",
    "        return self.name\n",
    "    \n",
    "\n",
    "class Functions:\n",
    "    \"\"\"\n",
    "        Singleton thing to store existing activation functions\n",
    "    \"\"\"\n",
    "\n",
    "    # Lambda notation used not to mess up too much the code\n",
    "    sigmoid = ActivationFunction(\n",
    "        \"sigmoid()\",\n",
    "        lambda x: 1 / (1 + np.exp(-x)),\n",
    "        # https://math.stackexchange.com/questions/78575/derivative-of-sigmoid-function-sigma-x-frac11e-x\n",
    "        lambda x: (lambda o: o*(1-o)) (1 / (1 + np.exp(-x)))\n",
    "    )\n",
    "\n",
    "    relu = ActivationFunction(\n",
    "        \"relu()\",\n",
    "        # Attention: we are multiplying float with bool \n",
    "        # https://stackoverflow.com/questions/18601484/subtract-boolean-from-float-in-python\n",
    "        lambda x: x * (x >= 0),\n",
    "        lambda x: 1. * (x > 0)\n",
    "    )"
   ]
  },
  {
   "cell_type": "code",
   "execution_count": 7,
   "metadata": {},
   "outputs": [
    {
     "data": {
      "text/plain": [
       "('sigmoid()', 0.6224593312018546)"
      ]
     },
     "execution_count": 7,
     "metadata": {},
     "output_type": "execute_result"
    }
   ],
   "source": [
    "# Testing our brand-new abstractions:\n",
    "str(Functions.sigmoid), Functions.sigmoid.f(0.5)"
   ]
  },
  {
   "cell_type": "markdown",
   "metadata": {},
   "source": [
    "## Model class"
   ]
  },
  {
   "cell_type": "code",
   "execution_count": 8,
   "metadata": {},
   "outputs": [],
   "source": [
    "# FINALLY WE HAVE THE NEURAL MODEL CLASS!\n",
    "\n",
    "class Model:\n",
    "    \"\"\"\n",
    "        This thing would help us to build an abstraction from the arrays of arrays of arrays...\n",
    "    \"\"\"\n",
    "\n",
    "    class WeightsFilling(Enum):\n",
    "        \"\"\"\n",
    "            Enum storing available types of filling (in __init__ func) our weights\n",
    "        \"\"\"\n",
    "        RANDOM = 0\n",
    "        ZEROS = 1\n",
    "        ONES = 2\n",
    "\n",
    "    def __init__(self, \n",
    "        shape: tuple[int],\n",
    "        activations: list[ActivationFunction] = list(),\n",
    "        fill_type: Union[WeightsFilling, list[WeightsFilling]] = list()\n",
    "    ):\n",
    "        \"\"\"\n",
    "            :param shape: number of \"neurons\" is each of the network layers\n",
    "                (actually will be used to specify the matrix dimentionality)\n",
    "            \n",
    "            :param activations: activations that are used in each network layer\n",
    "\n",
    "            :param fill_type: types of filling for each of the \"weights layers\"\n",
    "                (bundle of weights inbetween layers)\n",
    "        \"\"\"\n",
    "\n",
    "        self.shape = shape\n",
    "        self.L = len(shape)\n",
    "\n",
    "        # Formatting activation parameter\n",
    "        if not activations:\n",
    "            activations = np.full(self.L - 1, Functions.sigmoid)\n",
    "        else:\n",
    "            activations = np.array(activations)\n",
    "        \n",
    "        # Formatting fill_type parameter\n",
    "        if isinstance(fill_type, self.WeightsFilling):\n",
    "            fill_type = [fill_type] * (self.L - 1)\n",
    "        elif not fill_type:\n",
    "            fill_type = [self.WeightsFilling.RANDOM] * (self.L - 1)\n",
    "        \n",
    "        # Activation of layers\n",
    "        self.a = activations\n",
    "        # Weights layers\n",
    "        self.w = np.empty_like(activations, dtype=np.ndarray)\n",
    "        # Biases\n",
    "        self.b = np.empty_like(activations, dtype=np.ndarray)\n",
    "\n",
    "        # Here we are doing the weights filling, in correspondence with the fill_type\n",
    "        for i in range(self.L - 1):\n",
    "            if fill_type[i] is self.WeightsFilling.RANDOM:\n",
    "                self.w[i] = np.random.rand(shape[i], shape[i+1])\n",
    "                self.b[i] = np.random.rand(shape[i+1])\n",
    "            \n",
    "            elif fill_type[i] is self.WeightsFilling.ONES:\n",
    "                self.w[i] = np.ones(shape[i], shape[i+1])\n",
    "                self.b[i] = np.ones(shape[i+1])\n",
    "            \n",
    "            elif fill_type[i] is self.WeightsFilling.ZEROS:\n",
    "                self.w[i] = np.zeros(shape[i], shape[i+1])\n",
    "                self.b[i] = np.zeros(shape[i+1])\n",
    "    \n",
    "    # Again, the thing that would help us to debug the entire notebook\n",
    "    def __str__(self):\n",
    "        ret = f\"NN model of shape {self.shape}\\n\"\n",
    "        for i in range(self.L - 1):\n",
    "            ret += f\"Layer {i}: a={self.a[i]}, w={self.w[i].shape}, b={self.b[i].shape}\\n\"\n",
    "        return ret\n",
    "\n",
    "# no neurons? 😓"
   ]
  },
  {
   "cell_type": "code",
   "execution_count": 9,
   "metadata": {},
   "outputs": [
    {
     "name": "stdout",
     "output_type": "stream",
     "text": [
      "NN model of shape (3, 2, 1)\n",
      "Layer 0: a=sigmoid(), w=(3, 2), b=(2,)\n",
      "Layer 1: a=sigmoid(), w=(2, 1), b=(1,)\n",
      "\n"
     ]
    }
   ],
   "source": [
    "m = Model((3, 2, 1))\n",
    "print(m)"
   ]
  },
  {
   "cell_type": "markdown",
   "metadata": {},
   "source": [
    "# Forward and backward propagations"
   ]
  },
  {
   "cell_type": "markdown",
   "metadata": {},
   "source": [
    "Here we would derive the steps, that will allow us to train our network model."
   ]
  },
  {
   "cell_type": "markdown",
   "metadata": {},
   "source": [
    "### Derivations:\n",
    "\n",
    "Basically, right now we only have a model, that tells us how to organise the data of neural network. But yet we have not talked about how to assign this data in such a way, that network would do the thing we want it to do. So, lets try to find a way to make it.\n",
    "\n",
    "You may have already spotted in the code, that we preassing the values of the weight with some random mess/zeros/ones. Obviously, this is not enough to make our model solve thr problems. Thus, we need to determine how to alter this preassigned values in order to *teach* the network.\n",
    "\n",
    "Right now we do not have anything, that would tell how much and in which direction to change the weights, so lets define something. Let the $ C $ would be the error-metric. It would tell us, how much the model mistaken, answerring the question: the larger the $ C $ value, the more wrong it is. If the network answerred the question perfectly, then let the $ C $ would be $ 0 $.\n",
    "\n",
    "Great, now we could rephrase our task as *find model parameters, such that the $ C $ on each of the possible task would be minimal*.\n",
    "\n",
    "And, hey, look what we would have, if we consider function $ C(p) $ that returns sum of errors of model with parameters $ p $ along all of the existing tests. Solving the task would mean *finding the roots of $ C(p) $*. We are now still closer to the real analysis.\n",
    "\n",
    "Okay, so how can we find the roots of some abstract function $ C(p) $? Of course, using the [Newton's method](https://en.wikipedia.org/wiki/Newton%27s_method) ([link #2](https://youtu.be/-RdOwhmqP5s)). I will not explain its idea here, as there are a lot of people that done this thing much better than I can. But an essential thing to know is that we would need to compute the derivatives of the $ C(p) $ with respect to each of the network parameters, which will then be used to alter these parameters just the right amount, so that in the end we would get better performance."
   ]
  },
  {
   "cell_type": "markdown",
   "metadata": {},
   "source": [
    "Notice that we still have not defined the $ C(p) $. Firstly, lets say, that we are now considering the one individual test, and we want our network to perform best on it. Then\n",
    "\n",
    "$$ C(p) = C = \\sum_i{(y_i - y_i^*)^2} = |y - y^*| $$\n",
    "\n",
    "(where $ y $ - the answer vector of the network, and $ y^* $ - the right answer vector)\n",
    "would fully satisfy our description.\n",
    "\n",
    "Lets start derivating!"
   ]
  },
  {
   "cell_type": "markdown",
   "metadata": {},
   "source": [
    "#### dC/dy:\n",
    "This thing is mostly obvious: \n",
    "\n",
    "$$ \\displaystyle\n",
    "\\frac{dC}{dy_i} = \\frac{d\\sum_j{(y_j - y_j^*)^2}}{dy_i} \n",
    "    = \\frac{d(y_0 - y_0^*)^2}{dy_i} + \\frac{d(y_1 - y_1^*)^2}{dy_i} + \\dots + \\frac{d(y_i - y_i^*)^2}{dy_i} + \\dots\n",
    "$$\n",
    "\n",
    "$$ \\displaystyle\n",
    "\\frac{dC}{dy_i} = 0 + 0 + \\dots + \\frac{d(y_i - y_i^*)^2}{dy_i} + \\dots\n",
    "$$\n",
    "<div></div>\n",
    "\n",
    "$$ \\displaystyle \\large\n",
    "\\frac{dC}{dy_i} = 2(y_i - y_i^*);\n",
    "$$"
   ]
  },
  {
   "cell_type": "markdown",
   "metadata": {},
   "source": [
    "#### dout(l)/dout(l-1)\n",
    "\n",
    "Actually, $ y_i $ is an output of last neuron layer, so, we have just found $ \\displaystyle \\frac{dC}{dout^{(L)}} $. But, to know the derivatives with respect to other neurons and their weights, we need to find a way to jump to previous layer. Lets recall our recurrent formula:\n",
    "\n",
    "$$ \\displaystyle\n",
    "out^{(l)}_i = A_f^{(l)}(raw^{(l)}_i) = A_f^{(l)}(W^{(l-1)}_i * out^{(l-1)} + b^{(l-1)}_i) = \n",
    "    A_f^{(l)}\\left(\\sum_k{W^{(l-1)}_{ik} out^{(l-1)}_k} + b^{(l-1)}_i\\right)\n",
    "$$\n",
    "\n",
    "\n",
    "After the expansion, we could try to compute the derivative:\n",
    "\n",
    "$$ \\;\\;\\;\\;\\displaystyle\n",
    "\\frac{dout^{(l)}_i}{dout^{(l-1)}_j} = \n",
    "    A_f'^{(l)}\\left(\\sum_k{W^{(l-1)}_{ik} out^{(l-1)}_k} + b^{(l-1)}_i\\right) \\cdot \\frac{d\\left(\\sum_k{W^{(l-1)}_{ik} out^{(l-1)}_k} + b^{(l-1)}_i\\right)}{dout^{(l-1)}_j}\n",
    "$$\n",
    "\n",
    "\n",
    "Recalling that $ A_f'^{(l)} $ is by definition $ A_d^{(l)} $, and the previous sum derivative expansion (in section dC/dy), we would get:\n",
    "\n",
    "$$ \\;\\;\\;\\;\\displaystyle \\large\n",
    "\\frac{dout^{(l)}_i}{dout^{(l-1)}_j} = A_d^{(l)}(raw^{(l)}_i) \\cdot W^{(l-1)}_{ij};\n",
    "$$\n",
    "<div></div>\n",
    "\n",
    "$$ \\displaystyle\n",
    "\\frac{dC}{dout^{(l-1)}_i} = \n",
    "    \\sum_k{ \\left(\n",
    "        \\frac{dC}{dout^{(l)}_k} \\cdot \\frac{dout^{(l)}_k}{dout^{(l-1)}_i}\n",
    "    \\right) } = \n",
    "    \\left(\\frac{dC}{dout^{(l)}}\\right)^T * (A_d^{(l)}(raw^{(l)}) W^{(l-1)}_{*i})\n",
    "$$\n",
    "\n",
    "And this would be our final formula to find the derivative for next layer :\n",
    "$$ \\displaystyle\n",
    "\\frac{dC}{dout^{(l-1)}} = \\left(\\frac{dC}{dout^{(l)}}\\right)^T * (out^{(l)} W^{(l-1)});\n",
    "$$"
   ]
  },
  {
   "cell_type": "markdown",
   "metadata": {},
   "source": [
    "#### dC/dW\n",
    "\n",
    "$ \\displaystyle\n",
    "out^{(l)}_i = A_f^{(l)}(raw^{(l)}_i) = \n",
    "    A_f^{(l)}(\\sum_k{W^{(l)}_{ik} out^{(l-1)}_k} + b^{(l)}_i)\n",
    "$\n",
    "\n",
    "$ \\displaystyle\n",
    "\\frac{dout^{(l)}_i}{dW^{(l)}_{ij}} = A_d^{(l)}(\\sum_k{W^{(l)}_{ik} out^{(l-1)}_k} + b^{(l)}_i) * \\frac{d(\\sum_k{W^{(l)}_{ik} out^{(l-1)}_k} + b^{(l)}_i)}{dW^{(l)}_{ij}}\n",
    "$\n",
    "\n",
    "$ \\displaystyle\n",
    "\\frac{dout^{(l)}_i}{dW^{(l)}_{ij}} = A_d^{(l)}(raw^{(l)}_i) * out^{(l-1)}_j\n",
    "$\n",
    "\n",
    "$ \\displaystyle\n",
    "\\frac{dC}{dW^{(l)}_{ij}} = \\frac{dC}{dout^{(l)}_i} * \\frac{dout^{(l)}_i}{dW^{(l)}_{ij}} =\n",
    "    \\frac{dC}{dout^{(l)}_i} * A_d^{(l)}(raw^{(l)}_i) * out^{(l-1)}_j\n",
    "$\n",
    "\n",
    "$ \\displaystyle\n",
    "\\frac{dC}{dW^{(l)}} = (\\frac{dC}{dout^{(l)}} A_d^{(l)}(raw^{(l)})) * out^{(l-1)};\n",
    "$"
   ]
  },
  {
   "cell_type": "code",
   "execution_count": 10,
   "metadata": {},
   "outputs": [],
   "source": [
    "def forward(model: Model, x: np.ndarray) -> tuple[npt.NDArray[npt.NDArray], npt.NDArray[npt.NDArray]]:\n",
    "    a, w, b = model.a, model.w, model.b\n",
    "    raw = np.empty(model.L, dtype=object)\n",
    "    out = np.empty(model.L, dtype=object)\n",
    "    out[0] = x\n",
    "    for l in range(1, len(model.shape)):\n",
    "        raw[l] = (out[l-1] @ w[l-1] + b[l-1])\n",
    "        out[l] = a[l-1].f(raw[l])\n",
    "    return raw, out"
   ]
  },
  {
   "cell_type": "code",
   "execution_count": 11,
   "metadata": {},
   "outputs": [],
   "source": [
    "def backward(\n",
    "    model: Model,\n",
    "    raw: list[np.ndarray],\n",
    "    out: list[np.ndarray],\n",
    "    y: np.ndarray\n",
    ") -> tuple[float, npt.NDArray[npt.NDArray], npt.NDArray[npt.NDArray]]:\n",
    "\n",
    "    L, a, w, b = model.L, model.a, model.w, model.b\n",
    "    dw = np.empty_like(w)\n",
    "    db = np.empty_like(b)\n",
    "    dCout = 2*(out[L-1] - y)\n",
    "    for l in range(L-1, 0, -1):\n",
    "        buff = dCout * a[l-1].d(raw[l])\n",
    "        dw[l-1] = out[l-1].reshape(-1, 1) @ buff.reshape(1, -1)\n",
    "        db[l-1] = buff\n",
    "        dCout = (out[l] * w[l-1]) @ dCout\n",
    "    return sum((out[L-1] - y)**2), dw, db"
   ]
  },
  {
   "cell_type": "markdown",
   "metadata": {},
   "source": [
    "# The test"
   ]
  },
  {
   "cell_type": "code",
   "execution_count": 12,
   "metadata": {},
   "outputs": [
    {
     "data": {
      "text/plain": [
       "image    [0.0, 0.0, 0.0, 0.0, 0.0, 0.0, 0.0, 0.0, 0.0, ...\n",
       "label    [0.0, 0.0, 0.0, 0.0, 0.0, 0.0, 0.0, 1.0, 0.0, ...\n",
       "Name: 0, dtype: object"
      ]
     },
     "execution_count": 12,
     "metadata": {},
     "output_type": "execute_result"
    }
   ],
   "source": [
    "ds_train.iloc[0]"
   ]
  },
  {
   "cell_type": "code",
   "execution_count": 13,
   "metadata": {},
   "outputs": [],
   "source": [
    "model = Model((784, 100, 10), [Functions.relu, Functions.sigmoid])\n",
    "model.w[0] *= .1\n",
    "model.w[1] *= .1"
   ]
  },
  {
   "cell_type": "code",
   "execution_count": 14,
   "metadata": {},
   "outputs": [
    {
     "name": "stdout",
     "output_type": "stream",
     "text": [
      "8.99999988892357\n",
      "0.9394311566062503\n",
      "0.9074389237458182\n",
      "0.8278303045262583\n",
      "0.7319894383119204\n",
      "0.641862721604982\n",
      "0.33202880211742203\n",
      "0.3617244635725242\n",
      "0.19864698329556413\n",
      "0.4451261324561845\n",
      "0.36029944185931123\n",
      "0.26645289661739074\n",
      "0.15521358695902424\n",
      "0.2556115395783608\n",
      "0.26779546123358705\n",
      "0.35802780488390573\n",
      "0.12377818055779484\n",
      "0.11640818295614366\n",
      "0.2260164857466874\n",
      "0.15035002927106897\n",
      "0.24278729179992378\n",
      "0.2899246835552123\n",
      "0.07054283673823174\n",
      "0.11596734871389783\n",
      "0.05173635931973809\n",
      "0.12570438215438964\n",
      "0.044773102011415405\n",
      "0.13448385226292037\n",
      "0.10835487527197078\n",
      "0.10928003590121001\n"
     ]
    }
   ],
   "source": [
    "batch_size = 20\n",
    "for j in range(int(3e3)):\n",
    "    C, Dw, Db = 0, [0, 0], [0, 0]\n",
    "    for i in np.random.randint(0, len(ds_train), batch_size):\n",
    "        x, y = ds_train.iloc[i]\n",
    "        raw, out = forward(model, x)\n",
    "        c, dw, db = backward(model, raw, out, y)\n",
    "        C += c\n",
    "        for i in range(len(model.shape)-1):\n",
    "            Dw[i] += dw[i]\n",
    "            Db[i] += db[i]\n",
    "    if not j % int(1e2):\n",
    "        print(C / batch_size)\n",
    "    for i in range(len(model.shape)-1):\n",
    "        model.w[i] -= Dw[i] * .1 / batch_size\n",
    "        model.b[i] -= Db[i] * .01 / batch_size"
   ]
  },
  {
   "cell_type": "code",
   "execution_count": 17,
   "metadata": {},
   "outputs": [
    {
     "name": "stdout",
     "output_type": "stream",
     "text": [
      "To find image with error 0.1, 2 steps needed.\n"
     ]
    },
    {
     "data": {
      "image/png": "[encoded data removed]",
      "text/plain": [
       "<Figure size 720x360 with 2 Axes>"
      ]
     },
     "metadata": {},
     "output_type": "display_data"
    }
   ],
   "source": [
    "c = 0\n",
    "counter = 0\n",
    "error_to_find = 0.1\n",
    "while c < error_to_find or not counter:\n",
    "    x, y = ds_test.iloc[rnd.randint(0, len(ds_test)-1)]\n",
    "    pred = forward(model, x)[1][-1]\n",
    "    c = sum((pred - y)**2)\n",
    "    counter += 1\n",
    "(fig, [ax1, ax2]) = plt.subplots(1, 2, figsize=(10, 5))\n",
    "ax1.imshow(x.reshape(28, -1))\n",
    "ax2.plot(y)\n",
    "ax2.plot(pred)\n",
    "print(f\"To find image with error {error_to_find}, {counter} steps needed.\")"
   ]
  }
 ],
 "metadata": {
  "kernelspec": {
   "display_name": "Python 3.9.7 ('.venv': venv)",
   "language": "python",
   "name": "python3"
  },
  "language_info": {
   "codemirror_mode": {
    "name": "ipython",
    "version": 3
   },
   "file_extension": ".py",
   "mimetype": "text/x-python",
   "name": "python",
   "nbconvert_exporter": "python",
   "pygments_lexer": "ipython3",
   "version": "3.9.7"
  },
  "orig_nbformat": 4,
  "vscode": {
   "interpreter": {
    "hash": "e557ea5211ede434a26f80b7971e1d02d8d12808ee0bdf1820797eb4c67a1df1"
   }
  }
 },
 "nbformat": 4,
 "nbformat_minor": 2
}
