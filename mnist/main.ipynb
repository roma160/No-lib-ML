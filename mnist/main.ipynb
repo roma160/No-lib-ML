{
 "cells": [
  {
   "cell_type": "markdown",
   "metadata": {},
   "source": [
    "# MNIST dataset training\n",
    "The algorithms is taken from [3B1B](https://youtu.be/aircAruvnKk)\n",
    "\n",
    "The TS library is used only to download the dataset"
   ]
  },
  {
   "cell_type": "markdown",
   "metadata": {},
   "source": [
    "### Libs and dataset loading"
   ]
  },
  {
   "cell_type": "code",
   "execution_count": 2,
   "metadata": {},
   "outputs": [
    {
     "name": "stderr",
     "output_type": "stream",
     "text": [
      "c:\\Program Files\\Python\\Python39\\lib\\site-packages\\scipy\\__init__.py:146: UserWarning: A NumPy version >=1.16.5 and <1.23.0 is required for this version of SciPy (detected version 1.23.0\n",
      "  warnings.warn(f\"A NumPy version >={np_minversion} and <{np_maxversion}\"\n"
     ]
    }
   ],
   "source": [
    "from typing import Callable\n",
    "import numpy.typing as npt\n",
    "\n",
    "from dataclasses import dataclass\n",
    "from enum import Enum\n",
    "import random as rnd\n",
    "\n",
    "import tensorflow_datasets as tfds\n",
    "import numpy as np\n",
    "import pandas as pd"
   ]
  },
  {
   "cell_type": "code",
   "execution_count": 3,
   "metadata": {},
   "outputs": [
    {
     "data": {
      "text/plain": [
       "tfds.core.DatasetInfo(\n",
       "    name='mnist',\n",
       "    full_name='mnist/3.0.1',\n",
       "    description=\"\"\"\n",
       "    The MNIST database of handwritten digits.\n",
       "    \"\"\",\n",
       "    homepage='http://yann.lecun.com/exdb/mnist/',\n",
       "    data_path='~\\\\tensorflow_datasets\\\\mnist\\\\3.0.1',\n",
       "    file_format=tfrecord,\n",
       "    download_size=11.06 MiB,\n",
       "    dataset_size=21.00 MiB,\n",
       "    features=FeaturesDict({\n",
       "        'image': Image(shape=(28, 28, 1), dtype=tf.uint8),\n",
       "        'label': ClassLabel(shape=(), dtype=tf.int64, num_classes=10),\n",
       "    }),\n",
       "    supervised_keys=('image', 'label'),\n",
       "    disable_shuffling=False,\n",
       "    splits={\n",
       "        'test': <SplitInfo num_examples=10000, num_shards=1>,\n",
       "        'train': <SplitInfo num_examples=60000, num_shards=1>,\n",
       "    },\n",
       "    citation=\"\"\"@article{lecun2010mnist,\n",
       "      title={MNIST handwritten digit database},\n",
       "      author={LeCun, Yann and Cortes, Corinna and Burges, CJ},\n",
       "      journal={ATT Labs [Online]. Available: http://yann.lecun.com/exdb/mnist},\n",
       "      volume={2},\n",
       "      year={2010}\n",
       "    }\"\"\",\n",
       ")"
      ]
     },
     "execution_count": 3,
     "metadata": {},
     "output_type": "execute_result"
    }
   ],
   "source": [
    "(_ds_train, _ds_test), _ds_info = tfds.load(\n",
    "    \"mnist\",\n",
    "    split=[\"train\", \"test\"],\n",
    "    as_supervised=True,\n",
    "    with_info=True\n",
    ")\n",
    "_ds_info"
   ]
  },
  {
   "cell_type": "code",
   "execution_count": 4,
   "metadata": {},
   "outputs": [],
   "source": [
    "# Using individual cell in order to reset the datasets just in case\n",
    "\n",
    "ds_train = tfds.as_dataframe(\n",
    "    _ds_train, _ds_info\n",
    ")\n",
    "ds_test = tfds.as_dataframe(\n",
    "    _ds_test, _ds_info\n",
    ")"
   ]
  },
  {
   "cell_type": "markdown",
   "metadata": {},
   "source": [
    "### Creating data preparation pipeline"
   ]
  },
  {
   "cell_type": "code",
   "execution_count": 5,
   "metadata": {},
   "outputs": [
    {
     "data": {
      "text/plain": [
       "(784,)"
      ]
     },
     "execution_count": 5,
     "metadata": {},
     "output_type": "execute_result"
    }
   ],
   "source": [
    "def preparation_pipeline(ds: pd.DataFrame):\n",
    "    # Normalizing (unint8 -> float32) and flattening input\n",
    "    ds[\"image\"] = ds[\"image\"].apply(lambda el: el.reshape((-1,)) / 255.)\n",
    "    # Hot-encoding output\n",
    "    ds[\"label\"] = ds[\"label\"].apply(lambda el: 1. * (np.arange(10) == el))\n",
    "    # Renaming the columns\n",
    "    ds.rename({\"image\": \"x\", \"label\": \"y\"}, inplace=True)\n",
    "\n",
    "\n",
    "# Applying pipeline\n",
    "for ds in [ds_train, ds_test]:\n",
    "    preparation_pipeline(ds)\n",
    "# Shuffling with pd method sample\n",
    "ds_train = ds_train.sample(frac=1).reset_index(drop=True)\n",
    "\n",
    "ds_train.iloc[0][\"image\"].shape"
   ]
  },
  {
   "cell_type": "markdown",
   "metadata": {},
   "source": [
    "## Recurrent formulas:\n",
    "### Some reference\n",
    "<img src=\"./images/ref1.png\" width=\"700\"/>"
   ]
  },
  {
   "cell_type": "markdown",
   "metadata": {},
   "source": [
    "The recurent formulas are the initial bounds of our model, which we are then using to derive the training steps.\n",
    "\n",
    "Basically, we could define our model as $ F(x) = y $, but, as it must be more complex than this, we make some expansion.\n",
    "\n",
    "As we are dealing with the neural network, it is much better to store weights between two layers in a 2d matrix:\n",
    "$$ \\displaystyle\n",
    "W^{(l)}_{m\\leftarrow n} = \n",
    "\\begin{pmatrix}\n",
    "    w^{(l)}_{11} & w^{(l)}_{12} & \\dots & w^{(l)}_{1n} \\\\\n",
    "    w^{(l)}_{21} & w^{(l)}_{22} & \\dots & w^{(l)}_{2n} \\\\\n",
    "        \\vdots & \\vdots & \\ddots & \\vdots \\\\\n",
    "    w^{(l)}_{m1} & w^{(l)}_{m2} & \\dots & w^{(l)}_{mn} \\\\\n",
    "\\end{pmatrix},\n",
    "$$\n",
    "Where $ w^{(l)}_{ij} $ denotes weight from neuron $i$ to neuron $j$ in layer $l$.\n",
    "\n",
    "As we are approaching matrix math, let us denote **($*$)** as a **matrix multiplication** and **($\\cdot$)** as **element-wise multiplication** (and as this operation doesn't affects the dimentionality, often this dot could be just omited 🙃). Please also note, that having the element-wise multiplication gives us the right to define in the same way the **element-wise division**.\n",
    "\n",
    "Let also $W$ would be the array, holding all of these matrixes:\n",
    "$$ W = [\\;\\underbrace{W^{(0)}, W^{(1)}, \\dots, W^{(L-2)}}_{L-1}\\;] $$\n",
    "<div></div>\n",
    "\n",
    "But now lets define the neuron function and its output.\n",
    "Let $raw^{(l)} = [raw^{(l)}_1, raw^{(l)}_2, \\dots, raw^{(l)}_i, \\dots, raw^{(l)}_n]$\n",
    "would be the input, that goes to the neuron $i$ in layer $l$.\n",
    "And let the $A_f^{(l)}: \\mathbb{R}\\rightarrow \\mathbb{R}$ - an activation function of neurons in the layer $l$ and $A_d^{(l)}$ - its derivative.\n",
    "Okay, now we are finally able to define the output of the neuron layer $l$ as $out^{(l)} = [out^{(l)}_1, out^{(l)}_2, \\dots, out^{(l)}_i, \\dots, out^{(l)}_n]$, where $out^{(l)}_i$ denotes output of $i$ -th neuron.\n",
    "\n",
    "It is also quite a crutial thing not to mess up the indexes. And so, please note that while let we have $L$ layers of neurons, there are only $L-1$ \"weighted connections\" between them, thus we have only L-1 elements of $W$ array respectively. And this means that there are also $L$ inputs/outputs of the each neuron layer, which we would also store in one list, following the $W$ model:\n",
    "$$ raw = [\\;\\underbrace{raw^{(0)}, raw^{(1)}, \\dots, raw^{(L-1)}}_{L}\\;] $$\n",
    "$$ out = [\\;\\underbrace{out^{(0)}, out^{(1)}, \\dots, out^{(L-1)}}_{L}\\;] $$\n",
    "<div></div>\n",
    "\n",
    "Taking the things said before into account, we are finally could define the \"function\" $F$:\n",
    "$$\n",
    "F: \\begin{cases}\n",
    "out^{(0)} = x; \\\\\n",
    "raw^{(l)} = W^{(l-1)} * out^{(l-1)} + b^{(l-1)}; \\\\\n",
    "out^{(l)} = A_f^{(l)}(raw^{(l)}); \\\\\n",
    "y = out^{(L-1)};\n",
    "\\end{cases}\n",
    "$$\n",
    "(Where $b^{(l)}$ is a bias of $l$ -th layer, and has the same dimentionality as $W^{(l)} * out^{(l-1)}$)\n",
    "\n",
    "$$ C = \\sum_i{(y_i - y_i^*)^2} = |y - y^*| $$"
   ]
  },
  {
   "cell_type": "markdown",
   "metadata": {},
   "source": [
    "## Layers class"
   ]
  },
  {
   "cell_type": "code",
   "execution_count": 6,
   "metadata": {},
   "outputs": [],
   "source": [
    "@dataclass\n",
    "class ActivationFunction:\n",
    "    name: str\n",
    "    # The function callable\n",
    "    f: Callable[[np.ndarray], np.ndarray]\n",
    "    # The derivative callable of function\n",
    "    d: Callable[[np.ndarray], np.ndarray]\n",
    "\n",
    "    def __str__(self):\n",
    "        return self.name\n",
    "    \n",
    "\n",
    "class Functions:\n",
    "    sigmoid = ActivationFunction(\n",
    "        \"sigmoid()\",\n",
    "        lambda x: 1 / (1 + np.exp(-x)),\n",
    "        lambda x: (lambda o: o*(1-o)) (1 / (1 + np.exp(-x)))\n",
    "    )\n",
    "    relu = ActivationFunction(\n",
    "        \"relu()\",\n",
    "        lambda x: x * (x >= 0),\n",
    "        lambda x: 1. * (x > 0)\n",
    "    )"
   ]
  },
  {
   "cell_type": "code",
   "execution_count": 7,
   "metadata": {},
   "outputs": [
    {
     "data": {
      "text/plain": [
       "('sigmoid()', 0.6224593312018546)"
      ]
     },
     "execution_count": 7,
     "metadata": {},
     "output_type": "execute_result"
    }
   ],
   "source": [
    "str(Functions.sigmoid), Functions.sigmoid.f(0.5)"
   ]
  },
  {
   "cell_type": "markdown",
   "metadata": {},
   "source": [
    "## Model class"
   ]
  },
  {
   "cell_type": "code",
   "execution_count": 8,
   "metadata": {},
   "outputs": [],
   "source": [
    "class Model:\n",
    "    class WeightsFilling(Enum):\n",
    "        RANDOM = 0\n",
    "        ZEROS = 1\n",
    "        ONES = 2\n",
    "\n",
    "    def __init__(self, \n",
    "        shape: tuple[int],\n",
    "        activations: list[ActivationFunction] = list(),\n",
    "        fill_type: list[WeightsFilling] = list()\n",
    "    ):\n",
    "        self.shape = shape\n",
    "        self.L = len(shape)\n",
    "\n",
    "        if not activations:\n",
    "            activations = np.full(self.L - 1, Functions.sigmoid)\n",
    "        else:\n",
    "            activations = np.array(activations)\n",
    "        \n",
    "        if not fill_type:\n",
    "            fill_type = [self.WeightsFilling.RANDOM] * (self.L - 1)\n",
    "        \n",
    "        # Activation of layers\n",
    "        self.a = activations\n",
    "        # Weights of layers\n",
    "        self.w = np.empty_like(activations, dtype=np.ndarray)\n",
    "        # Bias of layers\n",
    "        self.b = np.empty_like(activations, dtype=np.ndarray)\n",
    "\n",
    "        for i in range(self.L - 1):\n",
    "            if fill_type[i] is self.WeightsFilling.RANDOM:\n",
    "                self.w[i] = np.random.rand(shape[i], shape[i+1])\n",
    "                self.b[i] = np.random.rand(shape[i+1])\n",
    "            elif fill_type[i] is self.WeightsFilling.ONES:\n",
    "                self.w[i] = np.ones(shape[i], shape[i+1])\n",
    "                self.b[i] = np.ones(shape[i+1])\n",
    "            elif fill_type[i] is self.WeightsFilling.ZEROS:\n",
    "                self.w[i] = np.zeros(shape[i], shape[i+1])\n",
    "                self.b[i] = np.zeros(shape[i+1])\n",
    "    \n",
    "    def __str__(self):\n",
    "        ret = f\"NN model of shape {self.shape}\\n\"\n",
    "        for i in range(self.L - 1):\n",
    "            ret += f\"Layer {i}: a={self.a[i]}, w={self.w[i].shape}, b={self.b[i].shape}\\n\"\n",
    "        return ret"
   ]
  },
  {
   "cell_type": "code",
   "execution_count": 9,
   "metadata": {},
   "outputs": [
    {
     "name": "stdout",
     "output_type": "stream",
     "text": [
      "NN model of shape (3, 2, 1)\n",
      "Layer 0: a=sigmoid(), w=(3, 2), b=(2,)\n",
      "Layer 1: a=sigmoid(), w=(2, 1), b=(1,)\n",
      "\n"
     ]
    }
   ],
   "source": [
    "m = Model((3, 2, 1))\n",
    "print(m)"
   ]
  },
  {
   "cell_type": "markdown",
   "metadata": {},
   "source": [
    "# FB and BP"
   ]
  },
  {
   "cell_type": "markdown",
   "metadata": {},
   "source": [
    "In this section the derivation of all training forlas is done."
   ]
  },
  {
   "cell_type": "markdown",
   "metadata": {},
   "source": [
    "### Derivations:"
   ]
  },
  {
   "cell_type": "markdown",
   "metadata": {},
   "source": [
    "#### dC/dy:\n",
    "$ \\displaystyle \\frac{dC}{dy_i} = 2(y_i - y_i^*); $"
   ]
  },
  {
   "cell_type": "markdown",
   "metadata": {},
   "source": [
    "#### dout(l)/dout(l-1)\n",
    "\n",
    "$$ \\displaystyle\n",
    "out^{(l)}_i = A_f^{(l)}(raw^{(l)}_i) = A_f^{(l)}(W^{(l-1)}_i * out^{(l-1)} + b^{(l-1)}_i) = \n",
    "    A_f^{(l)}(\\sum_k{W^{(l-1)}_{ik} out^{(l-1)}_k} + b^{(l-1)}_i)\n",
    "$$\n",
    "\n",
    "$$ \\;\\;\\;\\;\\displaystyle\n",
    "\\frac{dout^{(l)}_i}{dout^{(l-1)}_j} = A_d^{(l)}(\\sum_k{W^{(l-1)}_{ik} out^{(l-1)}_k} + b^{(l-1)}_i) \\cdot \\frac{d(\\sum_k{W^{(l-1)}_{ik} out^{(l-1)}_k} + b^{(l-1)}_i)}{dout^{(l-1)}_j}\n",
    "$$\n",
    "\n",
    "$$ \\;\\;\\;\\;\\displaystyle\n",
    "\\frac{dout^{(l)}_i}{dout^{(l-1)}_j} = A_d^{(l)}(raw^{(l)}_i) \\cdot W^{(l-1)}_{ij}\n",
    "$$\n",
    "<div></div>\n",
    "\n",
    "$$ \\displaystyle\n",
    "\\frac{dC}{dout^{(l-1)}_i} = \n",
    "    \\sum_k{ \\left(\n",
    "        \\frac{dC}{dout^{(l)}_k} \\cdot \\frac{dout^{(l)}_k}{dout^{(l-1)}_i}\n",
    "    \\right) } = \n",
    "    \\left(\\frac{dC}{dout^{(l)}}\\right)^T * (A_d^{(l)}(raw^{(l)}) W^{(l-1)}_{*i})\n",
    "$$\n",
    "\n",
    "And this would be our final formula to find the derivative for next layer :\n",
    "$$ \\displaystyle\n",
    "\\frac{dC}{dout^{(l-1)}} = \\left(\\frac{dC}{dout^{(l)}}\\right)^T * (out^{(l)} W^{(l-1)});\n",
    "$$"
   ]
  },
  {
   "cell_type": "markdown",
   "metadata": {},
   "source": [
    "#### dC/dW\n",
    "\n",
    "$ \\displaystyle\n",
    "out^{(l)}_i = A_f^{(l)}(raw^{(l)}_i) = \n",
    "    A_f^{(l)}(\\sum_k{W^{(l)}_{ik} out^{(l-1)}_k} + b^{(l)}_i)\n",
    "$\n",
    "\n",
    "$ \\displaystyle\n",
    "\\frac{dout^{(l)}_i}{dW^{(l)}_{ij}} = A_d^{(l)}(\\sum_k{W^{(l)}_{ik} out^{(l-1)}_k} + b^{(l)}_i) * \\frac{d(\\sum_k{W^{(l)}_{ik} out^{(l-1)}_k} + b^{(l)}_i)}{dW^{(l)}_{ij}}\n",
    "$\n",
    "\n",
    "$ \\displaystyle\n",
    "\\frac{dout^{(l)}_i}{dW^{(l)}_{ij}} = A_d^{(l)}(raw^{(l)}_i) * out^{(l-1)}_j\n",
    "$\n",
    "\n",
    "$ \\displaystyle\n",
    "\\frac{dC}{dW^{(l)}_{ij}} = \\frac{dC}{dout^{(l)}_i} * \\frac{dout^{(l)}_i}{dW^{(l)}_{ij}} =\n",
    "    \\frac{dC}{dout^{(l)}_i} * A_d^{(l)}(raw^{(l)}_i) * out^{(l-1)}_j\n",
    "$\n",
    "\n",
    "$ \\displaystyle\n",
    "\\frac{dC}{dW^{(l)}} = (\\frac{dC}{dout^{(l)}} A_d^{(l)}(raw^{(l)})) * out^{(l-1)};\n",
    "$"
   ]
  },
  {
   "cell_type": "code",
   "execution_count": 10,
   "metadata": {},
   "outputs": [],
   "source": [
    "def forward(model: Model, x: np.ndarray) -> tuple[npt.NDArray[npt.NDArray], npt.NDArray[npt.NDArray]]:\n",
    "    a, w, b = model.a, model.w, model.b\n",
    "    raw = np.empty(model.L, dtype=object)\n",
    "    out = np.empty(model.L, dtype=object)\n",
    "    out[0] = x\n",
    "    for l in range(1, len(model.shape)):\n",
    "        raw[l] = (out[l-1] @ w[l-1] + b[l-1])\n",
    "        out[l] = a[l-1].f(raw[l])\n",
    "    return raw, out"
   ]
  },
  {
   "cell_type": "code",
   "execution_count": 19,
   "metadata": {},
   "outputs": [],
   "source": [
    "def backward(model: Model, raw: list[np.ndarray], out: list[np.ndarray], y: np.ndarray) -> (float, list[np.ndarray], list[np.ndarray]):\n",
    "    L, a, w, b = model.L, model.a, model.w, model.b\n",
    "    dw = np.empty_like(w)\n",
    "    db = np.empty_like(b)\n",
    "    dCout = 2*(out[L-1] - y)\n",
    "    for l in range(L-1, 0, -1):\n",
    "        buff = dCout * a[l-1].d(raw[l])\n",
    "        dw[l-1] = out[l-1].reshape(-1, 1) @ buff.reshape(1, -1)\n",
    "        db[l-1] = buff\n",
    "        dCout = (out[l] * w[l-1]) @ dCout\n",
    "    return sum((out[L-1] - y)**2), dw, db"
   ]
  },
  {
   "cell_type": "markdown",
   "metadata": {},
   "source": [
    "# The test"
   ]
  },
  {
   "cell_type": "code",
   "execution_count": 12,
   "metadata": {},
   "outputs": [
    {
     "data": {
      "text/plain": [
       "image    [0.0, 0.0, 0.0, 0.0, 0.0, 0.0, 0.0, 0.0, 0.0, ...\n",
       "label    [1.0, 0.0, 0.0, 0.0, 0.0, 0.0, 0.0, 0.0, 0.0, ...\n",
       "Name: 0, dtype: object"
      ]
     },
     "execution_count": 12,
     "metadata": {},
     "output_type": "execute_result"
    }
   ],
   "source": [
    "ds_train.iloc[0]"
   ]
  },
  {
   "cell_type": "code",
   "execution_count": 13,
   "metadata": {},
   "outputs": [],
   "source": [
    "model = Model((784, 100, 10), [Functions.relu, Functions.sigmoid])\n",
    "model.w[0] *= .1\n",
    "model.w[1] *= .1"
   ]
  },
  {
   "cell_type": "code",
   "execution_count": 20,
   "metadata": {},
   "outputs": [
    {
     "name": "stdout",
     "output_type": "stream",
     "text": [
      "0.9286870172985863\n",
      "0.9342873212990004\n",
      "0.924829218842997\n",
      "0.924989214895262\n",
      "0.9056734450126139\n",
      "0.9199458892620817\n",
      "0.9148823116187768\n",
      "0.9120319307197405\n",
      "0.9182447935539185\n",
      "0.9199359114277957\n"
     ]
    }
   ],
   "source": [
    "batch_size = 40\n",
    "for j in range(int(1e3)):\n",
    "    C, Dw, Db = 0, [0, 0], [0, 0]\n",
    "    for i in np.random.randint(0, len(ds_train), batch_size):\n",
    "        x, y = ds_train.iloc[i]\n",
    "        raw, out = forward(model, x)\n",
    "        c, dw, db = backward(model, raw, out, y)\n",
    "        C += c\n",
    "        for i in range(len(model.shape)-1):\n",
    "            Dw[i] += dw[i]\n",
    "            Db[i] += db[i]\n",
    "    if not j % int(1e2):\n",
    "        print(C / batch_size)\n",
    "    for i in range(len(model.shape)-1):\n",
    "        model.w[i] -= Dw[i] * .001 / batch_size\n",
    "        model.b[i] -= Db[i] * .01 / batch_size"
   ]
  },
  {
   "cell_type": "code",
   "execution_count": 15,
   "metadata": {},
   "outputs": [],
   "source": [
    "import matplotlib.pyplot as plt"
   ]
  },
  {
   "cell_type": "code",
   "execution_count": 16,
   "metadata": {},
   "outputs": [
    {
     "data": {
      "text/plain": [
       "[<matplotlib.lines.Line2D at 0x1d248387580>]"
      ]
     },
     "execution_count": 16,
     "metadata": {},
     "output_type": "execute_result"
    },
    {
     "data": {
      "image/png": "[encoded data removed]",
      "text/plain": [
       "<Figure size 720x360 with 2 Axes>"
      ]
     },
     "metadata": {},
     "output_type": "display_data"
    }
   ],
   "source": [
    "c = 0\n",
    "while c < 0.2:\n",
    "    x, y = ds_test.iloc[rnd.randint(0, len(ds_test)-1)]\n",
    "    pred = forward(model, x)[1][-1]\n",
    "    c = sum((pred - y)**2)\n",
    "(fig, [ax1, ax2]) = plt.subplots(1, 2, figsize=(10, 5))\n",
    "ax1.imshow(x.reshape(28, -1))\n",
    "ax2.plot(y)\n",
    "ax2.plot(pred)"
   ]
  }
 ],
 "metadata": {
  "kernelspec": {
   "display_name": "Python 3.9.7 64-bit (system)",
   "language": "python",
   "name": "python3"
  },
  "language_info": {
   "codemirror_mode": {
    "name": "ipython",
    "version": 3
   },
   "file_extension": ".py",
   "mimetype": "text/x-python",
   "name": "python",
   "nbconvert_exporter": "python",
   "pygments_lexer": "ipython3",
   "version": "3.9.7"
  },
  "orig_nbformat": 4,
  "vscode": {
   "interpreter": {
    "hash": "4fbfea1dd5a17f80dff8df3ba641602c59e31ce1a55b82aea18e6894ff3c71a7"
   }
  }
 },
 "nbformat": 4,
 "nbformat_minor": 2
}
